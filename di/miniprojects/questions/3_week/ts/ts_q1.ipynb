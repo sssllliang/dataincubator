{
 "cells": [
  {
   "cell_type": "markdown",
   "metadata": {},
   "source": [
    "# ts_q1\n",
    "\n",
    "Text Input:\n",
    "```\n",
    "2000 01 01 00   -11   -72 10197   220    26     4     0     0 bos\n",
    " \n",
    "2000 01 01 01    -6   -78 10206   230    26     2     0 -9999 bos\n",
    " \n",
    "2000 01 01 02   -17   -78 10211   230    36     0     0 -9999 bos\n",
    " \n",
    "2000 01 01 03   -17   -78 10214   230    36     0     0 -9999 bos\n",
    " \n",
    "2000 01 01 04   -17   -78 10216   230    36     0     0 -9999 bos\n",
    "```\n",
    "\n",
    "Predict the __current__ temp based on timestamp and city."
   ]
  },
  {
   "cell_type": "code",
   "execution_count": 16,
   "metadata": {
    "collapsed": false
   },
   "outputs": [],
   "source": [
    "import pandas as pd\n",
    "import numpy as np\n",
    "import datetime as dt\n",
    "from sklearn.externals import joblib\n",
    "\n",
    "%matplotlib inline\n",
    "import matplotlib\n",
    "import seaborn as sns\n",
    "matplotlib.rcParams['savefig.dpi'] = 2 * matplotlib.rcParams['savefig.dpi']\n",
    "\n",
    "import scipy as sp\n",
    "import matplotlib.pyplot as plt\n",
    "import pylab as pylab\n",
    "import sklearn.linear_model\n",
    "import sklearn.tree\n",
    "import sklearn.metrics\n",
    "import statsmodels.api as sm"
   ]
  },
  {
   "cell_type": "code",
   "execution_count": 176,
   "metadata": {
    "collapsed": true
   },
   "outputs": [],
   "source": [
    "## CONSTANTS ###\n",
    "# PATH_DATA = '/home/vagrant/miniprojects/questions/3_week/ts/data/'\n",
    "# PATH_PKL = '/home/vagrant/miniprojects/questions/3_week/ts/pickles/'\n",
    "\n",
    "PATH_DATA = '~/Dev/Data_Incubator/miniprojects/questions/3_week/ts/data/'\n"
   ]
  },
  {
   "cell_type": "code",
   "execution_count": 463,
   "metadata": {
    "collapsed": false
   },
   "outputs": [],
   "source": [
    "## Load Data ###\n",
    "file = PATH_DATA +'tiny_train2.txt'\n",
    "features = ['year', 'month', 'day', 'hour', 'temp', 'dew_temp', 'pressure', 'wind_angle', 'wind_speed', 'sky_code', 'rain_hour', 'rain_6hour', 'city',]\n",
    "data = pd.read_table(file, sep=r\"\\s*\", names=features, header=None, encoding='latin-1', engine='python')\n",
    "\n",
    "data = data.iloc[:, [0,1,2,3,4,12]]\n"
   ]
  },
  {
   "cell_type": "code",
   "execution_count": 464,
   "metadata": {
    "collapsed": false
   },
   "outputs": [
    {
     "data": {
      "text/plain": [
       "(2000, 6)"
      ]
     },
     "execution_count": 464,
     "metadata": {},
     "output_type": "execute_result"
    }
   ],
   "source": [
    "data.shape"
   ]
  },
  {
   "cell_type": "code",
   "execution_count": 465,
   "metadata": {
    "collapsed": false
   },
   "outputs": [
    {
     "name": "stdout",
     "output_type": "stream",
     "text": [
      "   year  month  day  hour  temp city\n",
      "0  2011     11   22    16    67  bos\n",
      "1  2011     11   22    17    72  bos\n",
      "2  2011     11   22    18    72  bos\n",
      "3  2011     11   22    19    67  bos\n",
      "4  2011     11   22    20    67  bos\n",
      "      year  month  day  hour  temp city\n",
      "1995  2000      2   13    21     0  bal\n",
      "1996  2000      2   13    22     0  bal\n",
      "1997  2000      2   13    23     0  bal\n",
      "1998  2000      2   14     0     0  bal\n",
      "1999  2000      2   14     1     6  bal\n"
     ]
    }
   ],
   "source": [
    "print data.head()\n",
    "print data.tail()"
   ]
  },
  {
   "cell_type": "code",
   "execution_count": 466,
   "metadata": {
    "collapsed": false
   },
   "outputs": [],
   "source": [
    "## Convert date nums to strings ###\n",
    "data['year'] = data['year'].astype(str)\n",
    "data['month'] = data['month'].astype(str)\n",
    "data['day'] = data['day'].astype(str)\n",
    "data['hour'] = data['hour'].astype(str)"
   ]
  },
  {
   "cell_type": "code",
   "execution_count": 467,
   "metadata": {
    "collapsed": false
   },
   "outputs": [],
   "source": [
    "# replace leading zeroes\n",
    "for row in range(0, len(data)):\n",
    "    for col in range(1,4):\n",
    "        if len(data.iloc[row,col]) < 2: \n",
    "                data.iloc[row,col] = ('0' + data.iloc[row,col])\n"
   ]
  },
  {
   "cell_type": "code",
   "execution_count": 468,
   "metadata": {
    "collapsed": false
   },
   "outputs": [
    {
     "name": "stdout",
     "output_type": "stream",
     "text": [
      "   year month day hour  temp city\n",
      "0  2011    11  22   16    67  bos\n",
      "1  2011    11  22   17    72  bos\n",
      "2  2011    11  22   18    72  bos\n",
      "3  2011    11  22   19    67  bos\n",
      "4  2011    11  22   20    67  bos\n",
      "      year month day hour  temp city\n",
      "1995  2000    02  13   21     0  bal\n",
      "1996  2000    02  13   22     0  bal\n",
      "1997  2000    02  13   23     0  bal\n",
      "1998  2000    02  14   00     0  bal\n",
      "1999  2000    02  14   01     6  bal\n"
     ]
    }
   ],
   "source": [
    "\n",
    "print data.head()\n",
    "print data.tail()"
   ]
  },
  {
   "cell_type": "code",
   "execution_count": 469,
   "metadata": {
    "collapsed": false
   },
   "outputs": [
    {
     "name": "stdout",
     "output_type": "stream",
     "text": [
      "<type 'str'> 2011,11,22,16\n"
     ]
    }
   ],
   "source": [
    "## Join Date Strings\n",
    "d = data\n",
    "\n",
    "# join date strings for later timestamp conversion\n",
    "d['timestamp'] = d['year'].astype(str) + ',' + d['month'].astype(str) + ',' + d['day'].astype(str)+ ',' + d['hour'].astype(str)   \n",
    "\n",
    "# join dates without years for later sorting\n",
    "d['mdh'] = d['month'].astype(str) + d['day'].astype(str) + d['hour'].astype(str)\n",
    "\n",
    "print type(d.timestamp[0]), d.timestamp[0]"
   ]
  },
  {
   "cell_type": "code",
   "execution_count": 470,
   "metadata": {
    "collapsed": false
   },
   "outputs": [
    {
     "name": "stdout",
     "output_type": "stream",
     "text": [
      "   year month day hour  temp city           timestamp     mdh\n",
      "0  2011    11  22   16    67  bos 2011-11-22 16:00:00  112216\n",
      "1  2011    11  22   17    72  bos 2011-11-22 17:00:00  112217\n",
      "2  2011    11  22   18    72  bos 2011-11-22 18:00:00  112218\n",
      "3  2011    11  22   19    67  bos 2011-11-22 19:00:00  112219\n",
      "4  2011    11  22   20    67  bos 2011-11-22 20:00:00  112220\n",
      "      year month day hour  temp city           timestamp     mdh\n",
      "1995  2000    02  13   21     0  bal 2000-02-13 21:00:00  021321\n",
      "1996  2000    02  13   22     0  bal 2000-02-13 22:00:00  021322\n",
      "1997  2000    02  13   23     0  bal 2000-02-13 23:00:00  021323\n",
      "1998  2000    02  14   00     0  bal 2000-02-14 00:00:00  021400\n",
      "1999  2000    02  14   01     6  bal 2000-02-14 01:00:00  021401\n"
     ]
    }
   ],
   "source": [
    "## Cast to timestamp ###\n",
    "d.timestamp = pd.to_datetime(d.timestamp)\n",
    "\n",
    "# print type(d.timestamp[0]), d.timestamp[0]\n",
    "print data.head()\n",
    "print data.tail()"
   ]
  },
  {
   "cell_type": "code",
   "execution_count": 471,
   "metadata": {
    "collapsed": false
   },
   "outputs": [
    {
     "name": "stdout",
     "output_type": "stream",
     "text": [
      "(2000, 4)\n"
     ]
    },
    {
     "data": {
      "text/html": [
       "<div style=\"max-height:1000px;max-width:1500px;overflow:auto;\">\n",
       "<table border=\"1\" class=\"dataframe\">\n",
       "  <thead>\n",
       "    <tr style=\"text-align: right;\">\n",
       "      <th></th>\n",
       "      <th>timestamp</th>\n",
       "      <th>temp</th>\n",
       "      <th>city</th>\n",
       "      <th>mdh</th>\n",
       "    </tr>\n",
       "  </thead>\n",
       "  <tbody>\n",
       "    <tr>\n",
       "      <th>0</th>\n",
       "      <td>2011-11-22 16:00:00</td>\n",
       "      <td>67</td>\n",
       "      <td>bos</td>\n",
       "      <td>112216</td>\n",
       "    </tr>\n",
       "    <tr>\n",
       "      <th>1</th>\n",
       "      <td>2011-11-22 17:00:00</td>\n",
       "      <td>72</td>\n",
       "      <td>bos</td>\n",
       "      <td>112217</td>\n",
       "    </tr>\n",
       "    <tr>\n",
       "      <th>2</th>\n",
       "      <td>2011-11-22 18:00:00</td>\n",
       "      <td>72</td>\n",
       "      <td>bos</td>\n",
       "      <td>112218</td>\n",
       "    </tr>\n",
       "    <tr>\n",
       "      <th>3</th>\n",
       "      <td>2011-11-22 19:00:00</td>\n",
       "      <td>67</td>\n",
       "      <td>bos</td>\n",
       "      <td>112219</td>\n",
       "    </tr>\n",
       "    <tr>\n",
       "      <th>4</th>\n",
       "      <td>2011-11-22 20:00:00</td>\n",
       "      <td>67</td>\n",
       "      <td>bos</td>\n",
       "      <td>112220</td>\n",
       "    </tr>\n",
       "  </tbody>\n",
       "</table>\n",
       "</div>"
      ],
      "text/plain": [
       "            timestamp  temp city     mdh\n",
       "0 2011-11-22 16:00:00    67  bos  112216\n",
       "1 2011-11-22 17:00:00    72  bos  112217\n",
       "2 2011-11-22 18:00:00    72  bos  112218\n",
       "3 2011-11-22 19:00:00    67  bos  112219\n",
       "4 2011-11-22 20:00:00    67  bos  112220"
      ]
     },
     "execution_count": 471,
     "metadata": {},
     "output_type": "execute_result"
    }
   ],
   "source": [
    "## Restore df\n",
    "\n",
    "df_data = d.loc[:,['timestamp','temp', 'city', 'mdh']]\n",
    "\n",
    "print df_data.shape\n",
    "df_data.head()"
   ]
  },
  {
   "cell_type": "code",
   "execution_count": 472,
   "metadata": {
    "collapsed": false
   },
   "outputs": [
    {
     "name": "stdout",
     "output_type": "stream",
     "text": [
      "Axes(0.125,0.125;0.775x0.775)\n"
     ]
    },
    {
     "data": {
      "image/png": "[encoded data removed]",
      "text/plain": [
       "<matplotlib.figure.Figure at 0x105c744d0>"
      ]
     },
     "metadata": {},
     "output_type": "display_data"
    }
   ],
   "source": [
    "p = data.plot()\n",
    "p.xaxis.axis_name = \"Hours\"\n",
    "p.yaxis.axis_name = \"Temp\"\n",
    "print p"
   ]
  },
  {
   "cell_type": "code",
   "execution_count": 473,
   "metadata": {
    "collapsed": false
   },
   "outputs": [
    {
     "data": {
      "text/html": [
       "<div style=\"max-height:1000px;max-width:1500px;overflow:auto;\">\n",
       "<table border=\"1\" class=\"dataframe\">\n",
       "  <thead>\n",
       "    <tr style=\"text-align: right;\">\n",
       "      <th></th>\n",
       "      <th>timestamp</th>\n",
       "      <th>temp</th>\n",
       "      <th>city</th>\n",
       "      <th>mdh</th>\n",
       "    </tr>\n",
       "  </thead>\n",
       "  <tbody>\n",
       "    <tr>\n",
       "      <th>0</th>\n",
       "      <td>2011-11-22 16:00:00</td>\n",
       "      <td>67</td>\n",
       "      <td>bos</td>\n",
       "      <td>112216</td>\n",
       "    </tr>\n",
       "    <tr>\n",
       "      <th>1</th>\n",
       "      <td>2011-11-22 17:00:00</td>\n",
       "      <td>72</td>\n",
       "      <td>bos</td>\n",
       "      <td>112217</td>\n",
       "    </tr>\n",
       "    <tr>\n",
       "      <th>2</th>\n",
       "      <td>2011-11-22 18:00:00</td>\n",
       "      <td>72</td>\n",
       "      <td>bos</td>\n",
       "      <td>112218</td>\n",
       "    </tr>\n",
       "    <tr>\n",
       "      <th>3</th>\n",
       "      <td>2011-11-22 19:00:00</td>\n",
       "      <td>67</td>\n",
       "      <td>bos</td>\n",
       "      <td>112219</td>\n",
       "    </tr>\n",
       "    <tr>\n",
       "      <th>4</th>\n",
       "      <td>2011-11-22 20:00:00</td>\n",
       "      <td>67</td>\n",
       "      <td>bos</td>\n",
       "      <td>112220</td>\n",
       "    </tr>\n",
       "  </tbody>\n",
       "</table>\n",
       "</div>"
      ],
      "text/plain": [
       "            timestamp  temp city     mdh\n",
       "0 2011-11-22 16:00:00    67  bos  112216\n",
       "1 2011-11-22 17:00:00    72  bos  112217\n",
       "2 2011-11-22 18:00:00    72  bos  112218\n",
       "3 2011-11-22 19:00:00    67  bos  112219\n",
       "4 2011-11-22 20:00:00    67  bos  112220"
      ]
     },
     "execution_count": 473,
     "metadata": {},
     "output_type": "execute_result"
    }
   ],
   "source": [
    "## Clean NaNs ###\n",
    "# An Exploratory Print shows some temp = -9999, equivalent to NaN\n",
    "# Replace with an average interpolation\n",
    "\n",
    "# Identify indices of temperature NaNs\n",
    "ix_nan = df_data[df_data.temp == -9999].index.tolist()\n",
    "\n",
    "# for each ~NaN, avg adjacent temps\n",
    "for ix_row in ix_nan:\n",
    "    flt_avg_tmp = 0.5*(df_data.ix[ix_row - 1,'temp'] + df_data.ix[ix_row + 1,'temp'])\n",
    "    df_data.ix[ix_row,'temp'] = flt_avg_tmp\n",
    "\n",
    "\n",
    "df_data.head()"
   ]
  },
  {
   "cell_type": "code",
   "execution_count": 474,
   "metadata": {
    "collapsed": false
   },
   "outputs": [
    {
     "name": "stdout",
     "output_type": "stream",
     "text": [
      "Axes(0.125,0.125;0.775x0.775)\n"
     ]
    },
    {
     "data": {
      "image/png": "[encoded data removed]",
      "text/plain": [
       "<matplotlib.figure.Figure at 0x10d022b50>"
      ]
     },
     "metadata": {},
     "output_type": "display_data"
    }
   ],
   "source": [
    "p = df_data.plot()\n",
    "p.xaxis.axis_name = \"Hours\"\n",
    "p.yaxis.axis_name = \"Temp\"\n",
    "print p"
   ]
  },
  {
   "cell_type": "code",
   "execution_count": 475,
   "metadata": {
    "collapsed": true
   },
   "outputs": [],
   "source": [
    "## Set MultiIndex ###\n",
    "ix = pd.MultiIndex.from_arrays([df_data['city'], df_data['mdh']], names=['city','mdh'])\n",
    "df_data = df_data.set_index(ix)\n",
    "del(ix)"
   ]
  },
  {
   "cell_type": "code",
   "execution_count": 476,
   "metadata": {
    "collapsed": false
   },
   "outputs": [],
   "source": [
    "## Define Training Sets ###\n",
    "# at this point, data is clean; split X and y\n",
    "\n",
    "lst_tpl_X = list(df_data.loc[:,['timestamp','city']].itertuples())\n",
    "lst_y = df_data.temp.tolist()\n",
    "\n",
    "y = lst_y  # temperature\n",
    "X = lst_tpl_X  # (index, timestamp, city)"
   ]
  },
  {
   "cell_type": "code",
   "execution_count": 477,
   "metadata": {
    "collapsed": false
   },
   "outputs": [
    {
     "name": "stdout",
     "output_type": "stream",
     "text": [
      "                      timestamp  temp city     mdh\n",
      "city mdh                                          \n",
      "bos  112216 2011-11-22 16:00:00    67  bos  112216\n"
     ]
    },
    {
     "data": {
      "text/plain": [
       "['bal', 'bos']"
      ]
     },
     "execution_count": 477,
     "metadata": {},
     "output_type": "execute_result"
    }
   ],
   "source": [
    "## Aggregate by City ###\n",
    "gb_temps_by_city = df_data.groupby(by=['city'])  # separate records by city\n",
    "gb = gb_temps_by_city\n",
    "\n",
    "print gb.get_group('bos').head(1)\n",
    "list(gb.groups.iterkeys())"
   ]
  },
  {
   "cell_type": "code",
   "execution_count": 481,
   "metadata": {
    "collapsed": false,
    "scrolled": false
   },
   "outputs": [
    {
     "name": "stdout",
     "output_type": "stream",
     "text": [
      "----------------------------------------------------\n",
      "Number of hourly averages in bal : 1056\n",
      "Number of temp measurements in bal : 1056\n",
      "----------------------------------------------------\n",
      "----------------------------------------------------\n",
      "Number of hourly averages in bos : 944\n",
      "Number of temp measurements in bos : 944\n",
      "----------------------------------------------------\n"
     ]
    }
   ],
   "source": [
    "# Aggregate & train\n",
    "lst_city = []\n",
    "lst_mdh = []\n",
    "lst_avg_temp = []\n",
    "\n",
    "for k_city, df_years in gb_temps_by_city:\n",
    "    gb_mdh = df_years.groupby('mdh') # aggregate annual measurements for each day+hour\n",
    "    #print k_city, list(gb_hours.groups.iterkeys())\n",
    "\n",
    "    i = 0 # meSUREMENT COUNTER\n",
    "    for k_mdh, df_annual_temps in gb_mdh:  # for each set of annual measurements\n",
    "        avg_hourly_temp = df_annual_temps.temp.mean()\n",
    "        lst_avg_temp.append(avg_hourly_temp) # avg hourly temp over years\n",
    "        lst_city.append(k_city)\n",
    "        lst_mdh.append(k_mdh)\n",
    "        i += 1\n",
    "        \n",
    "#         if k_city == 'bos' and len(df_annual_temps)>1:\n",
    "#             print k_city, k_mdh, df_annual_temps.shape, ' | '#, df_annual_temps.temp#\n",
    "# #           print k_mdh, ' | ', avg_hourly_temp, ' | ', df_annual_temps.temp.item()#\n",
    "#             pass\n",
    "    print '----------------------------------------------------'\n",
    "    print 'Number of hourly averages in', k_city, ':', i\n",
    "    print 'Number of temp measurements in', k_city, ':', len(df_years)\n",
    "    print '----------------------------------------------------'\n",
    "df_avg_temps = pd.DataFrame()\n",
    "df_avg_temps['mdh'] = lst_mdh\n",
    "df_avg_temps['avg_temp'] = lst_avg_temp\n",
    "df_avg_temps['city'] = lst_city\n",
    "\n",
    "ix = pd.MultiIndex.from_arrays([lst_city, lst_mdh], names=['city','mdh'])\n",
    "df_avg_temps = df_avg_temps.set_index(ix)\n",
    "## At this point, model is trained.  It's a df of mdh, temp, city"
   ]
  },
  {
   "cell_type": "code",
   "execution_count": 482,
   "metadata": {
    "collapsed": false
   },
   "outputs": [
    {
     "data": {
      "text/html": [
       "<div style=\"max-height:1000px;max-width:1500px;overflow:auto;\">\n",
       "<table border=\"1\" class=\"dataframe\">\n",
       "  <thead>\n",
       "    <tr style=\"text-align: right;\">\n",
       "      <th></th>\n",
       "      <th></th>\n",
       "      <th>mdh</th>\n",
       "      <th>avg_temp</th>\n",
       "      <th>city</th>\n",
       "    </tr>\n",
       "    <tr>\n",
       "      <th>city</th>\n",
       "      <th>mdh</th>\n",
       "      <th></th>\n",
       "      <th></th>\n",
       "      <th></th>\n",
       "    </tr>\n",
       "  </thead>\n",
       "  <tbody>\n",
       "    <tr>\n",
       "      <th rowspan=\"5\" valign=\"top\">bal</th>\n",
       "      <th>010100</th>\n",
       "      <td>010100</td>\n",
       "      <td>22</td>\n",
       "      <td>bal</td>\n",
       "    </tr>\n",
       "    <tr>\n",
       "      <th>010101</th>\n",
       "      <td>010101</td>\n",
       "      <td>11</td>\n",
       "      <td>bal</td>\n",
       "    </tr>\n",
       "    <tr>\n",
       "      <th>010102</th>\n",
       "      <td>010102</td>\n",
       "      <td>6</td>\n",
       "      <td>bal</td>\n",
       "    </tr>\n",
       "    <tr>\n",
       "      <th>010103</th>\n",
       "      <td>010103</td>\n",
       "      <td>-6</td>\n",
       "      <td>bal</td>\n",
       "    </tr>\n",
       "    <tr>\n",
       "      <th>010104</th>\n",
       "      <td>010104</td>\n",
       "      <td>-11</td>\n",
       "      <td>bal</td>\n",
       "    </tr>\n",
       "  </tbody>\n",
       "</table>\n",
       "</div>"
      ],
      "text/plain": [
       "                mdh  avg_temp city\n",
       "city mdh                          \n",
       "bal  010100  010100        22  bal\n",
       "     010101  010101        11  bal\n",
       "     010102  010102         6  bal\n",
       "     010103  010103        -6  bal\n",
       "     010104  010104       -11  bal"
      ]
     },
     "execution_count": 482,
     "metadata": {},
     "output_type": "execute_result"
    }
   ],
   "source": [
    "## The model\n",
    "# print df_data.head()\n",
    "df_avg_temps.head()\n"
   ]
  },
  {
   "cell_type": "code",
   "execution_count": null,
   "metadata": {
    "collapsed": true
   },
   "outputs": [],
   "source": [
    "## Load ###\n",
    "# read in data, clean & munge\n",
    "# call _private munger??"
   ]
  },
  {
   "cell_type": "code",
   "execution_count": null,
   "metadata": {
    "collapsed": true
   },
   "outputs": [],
   "source": [
    "## Transformation ###\n",
    "# convert source df into gb obj\n"
   ]
  },
  {
   "cell_type": "code",
   "execution_count": 483,
   "metadata": {
    "collapsed": false
   },
   "outputs": [
    {
     "data": {
      "text/plain": [
       "0.0"
      ]
     },
     "execution_count": 483,
     "metadata": {},
     "output_type": "execute_result"
    }
   ],
   "source": [
    "## Predict\n",
    "model = X_tst = df_data.loc[:,['timestamp','temp','city','mdh']]\n",
    "\n",
    "y_pred = []\n",
    "for ix_city_mdh in X_tst.index:\n",
    "    y_pred.append(model.loc[ix_city_mdh,'temp'])\n",
    "\n",
    "# np.sum(X_tst.temp - y_pred)"
   ]
  },
  {
   "cell_type": "markdown",
   "metadata": {},
   "source": [
    "#### Fit Models"
   ]
  },
  {
   "cell_type": "code",
   "execution_count": null,
   "metadata": {
    "collapsed": true
   },
   "outputs": [],
   "source": [
    "rgr_bos.fit(X,y)"
   ]
  },
  {
   "cell_type": "code",
   "execution_count": null,
   "metadata": {
    "collapsed": true
   },
   "outputs": [],
   "source": [
    "rgr_bal.fit(X,y)"
   ]
  },
  {
   "cell_type": "markdown",
   "metadata": {},
   "source": [
    "#### Predict"
   ]
  },
  {
   "cell_type": "code",
   "execution_count": null,
   "metadata": {
    "collapsed": true
   },
   "outputs": [],
   "source": [
    "rgr_bos.predict(X,y)"
   ]
  },
  {
   "cell_type": "code",
   "execution_count": null,
   "metadata": {
    "collapsed": true
   },
   "outputs": [],
   "source": [
    "rgr_bal.predict(X,y)"
   ]
  },
  {
   "cell_type": "code",
   "execution_count": null,
   "metadata": {
    "collapsed": true
   },
   "outputs": [],
   "source": []
  },
  {
   "cell_type": "code",
   "execution_count": null,
   "metadata": {
    "collapsed": true
   },
   "outputs": [],
   "source": []
  },
  {
   "cell_type": "code",
   "execution_count": null,
   "metadata": {
    "collapsed": true
   },
   "outputs": [],
   "source": []
  },
  {
   "cell_type": "code",
   "execution_count": null,
   "metadata": {
    "collapsed": true
   },
   "outputs": [],
   "source": []
  },
  {
   "cell_type": "code",
   "execution_count": null,
   "metadata": {
    "collapsed": true
   },
   "outputs": [],
   "source": []
  }
 ],
 "metadata": {
  "kernelspec": {
   "display_name": "Python 2",
   "language": "python",
   "name": "python2"
  },
  "language_info": {
   "codemirror_mode": {
    "name": "ipython",
    "version": 2
   },
   "file_extension": ".py",
   "mimetype": "text/x-python",
   "name": "python",
   "nbconvert_exporter": "python",
   "pygments_lexer": "ipython2",
   "version": "2.7.10"
  }
 },
 "nbformat": 4,
 "nbformat_minor": 0
}
