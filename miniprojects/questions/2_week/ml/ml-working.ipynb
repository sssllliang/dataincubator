{
 "cells": [
  {
   "cell_type": "markdown",
   "metadata": {},
   "source": [
    "# ml-working.ipynb\n",
    "\n",
    "Our objective is to predict a new venue's popularity from information available when the venue opens.\n",
    "\n",
    "1. Have a json (matrix) of business attributes. \n",
    "2. Need a function that considers each business' success\n",
    "3. Use the funtion to map success predictions (labels) to the businesses"
   ]
  },
  {
   "cell_type": "code",
   "execution_count": 12,
   "metadata": {
    "collapsed": false,
    "scrolled": true
   },
   "outputs": [],
   "source": [
    "%matplotlib inline\n",
    "import matplotlib\n",
    "import seaborn as sns\n",
    "matplotlib.rcParams['savefig.dpi'] = 2 * matplotlib.rcParams['savefig.dpi']\n",
    "import simplejson as json\n",
    "import sklearn\n",
    "from Estimator import Estimator\n",
    "import pandas as pd"
   ]
  },
  {
   "cell_type": "code",
   "execution_count": 2,
   "metadata": {
    "collapsed": false,
    "scrolled": true
   },
   "outputs": [
    {
     "data": {
      "text/plain": [
       "37938"
      ]
     },
     "execution_count": 2,
     "metadata": {},
     "output_type": "execute_result"
    }
   ],
   "source": [
    "\n",
    "\n",
    "path = './data/yelp_train_academic_dataset_business.json'\n",
    "\n",
    "lst_yelp = []\n",
    "with open(path) as f:\n",
    "    for line in f:\n",
    "        lst_yelp.append(json.loads(line))\n",
    "\n",
    "len(lst_yelp)"
   ]
  },
  {
   "cell_type": "code",
   "execution_count": 3,
   "metadata": {
    "collapsed": false,
    "scrolled": true
   },
   "outputs": [
    {
     "name": "stdout",
     "output_type": "stream",
     "text": [
      "37938\n"
     ]
    }
   ],
   "source": [
    "print len(lst_yelp)\n",
    "#print lst_yelp[0]    \n",
    "\n"
   ]
  },
  {
   "cell_type": "code",
   "execution_count": 29,
   "metadata": {
    "collapsed": false,
    "scrolled": true
   },
   "outputs": [
    {
     "name": "stdout",
     "output_type": "stream",
     "text": [
      "13 13\n",
      "[1    5.666667\n",
      "Name: avgstars, dtype: float64, 2    7.5\n",
      "Name: avgstars, dtype: float64, 0    7.333333\n",
      "Name: avgstars, dtype: float64, 0    7.333333\n",
      "Name: avgstars, dtype: float64, 0    7.333333\n",
      "Name: avgstars, dtype: float64, 2    7.5\n",
      "Name: avgstars, dtype: float64, 1    5.666667\n",
      "Name: avgstars, dtype: float64, 0    7.333333\n",
      "Name: avgstars, dtype: float64, 1    5.666667\n",
      "Name: avgstars, dtype: float64, 2    7.5\n",
      "Name: avgstars, dtype: float64, 0    7.333333\n",
      "Name: avgstars, dtype: float64, 2    7.5\n",
      "Name: avgstars, dtype: float64, 0    7.333333\n",
      "Name: avgstars, dtype: float64]\n"
     ]
    }
   ],
   "source": [
    "# test estimator\n",
    "from Estimator import Estimator\n",
    "\n",
    "cls = Estimator()\n",
    "\n",
    "X_train = X_test = X = ['lv', 'nyc', 'la', 'la', 'la', 'nyc', 'lv', 'la','lv', 'nyc', 'la', 'nyc', 'la',]\n",
    "y_train = y_test = y = [1,2,3,4,5,6,7,8,9,10,11,12,13]\n",
    "\n",
    "record = {'city':Phoenix, 'stars':3.5}\n",
    "\n",
    "print len(X), len(y)\n",
    "\n",
    "cls.fit(X_train, y_train)  # fit data\n",
    "\n",
    "y_pred = cls.predict(X_test)  # predict answer\n",
    "\n",
    "#print X_test.shape, y_test.shape\n",
    "#cls.score((X_test, y_test)  # this part is bullshit\n",
    "print y_pred\n"
   ]
  },
  {
   "cell_type": "code",
   "execution_count": null,
   "metadata": {
    "collapsed": false,
    "scrolled": true
   },
   "outputs": [],
   "source": []
  },
  {
   "cell_type": "code",
   "execution_count": 27,
   "metadata": {
    "collapsed": false,
    "scrolled": true
   },
   "outputs": [
    {
     "name": "stdout",
     "output_type": "stream",
     "text": [
      "['Phoenix', 'Mesa'] ['Phoenix', 'Mesa']\n"
     ]
    }
   ],
   "source": [
    "import pandas as pd\n",
    "record = [{'city':'Phoenix', 'stars':3.5}, {'city':'Mesa', 'stars':4}]  \n",
    "#record = {'city':'Phoenix', 'stars':3.5}  \n",
    "\n",
    "\n",
    "df_record = pd.DataFrame(record)\n",
    "df.head()\n",
    "\n",
    "print list(df_record.city), list(df_record.city)"
   ]
  },
  {
   "cell_type": "code",
   "execution_count": 28,
   "metadata": {
    "collapsed": false,
    "scrolled": true
   },
   "outputs": [
    {
     "ename": "SyntaxError",
     "evalue": "invalid syntax (<ipython-input-28-1f94d3db5546>, line 1)",
     "output_type": "error",
     "traceback": [
      "\u001b[1;36m  File \u001b[1;32m\"<ipython-input-28-1f94d3db5546>\"\u001b[1;36m, line \u001b[1;32m1\u001b[0m\n\u001b[1;33m    k = import pandas\u001b[0m\n\u001b[1;37m             ^\u001b[0m\n\u001b[1;31mSyntaxError\u001b[0m\u001b[1;31m:\u001b[0m invalid syntax\n"
     ]
    }
   ],
   "source": [
    "k = import "
   ]
  },
  {
   "cell_type": "code",
   "execution_count": 89,
   "metadata": {
    "collapsed": false,
    "scrolled": true
   },
   "outputs": [
    {
     "name": "stdout",
     "output_type": "stream",
     "text": [
      "['la', 'lv', 'nyc']\n",
      "[7.333333333333333, 5.666666666666667, 7.5]\n"
     ]
    },
    {
     "data": {
      "text/html": [
       "<div style=\"max-height:1000px;max-width:1500px;overflow:auto;\">\n",
       "<table border=\"1\" class=\"dataframe\">\n",
       "  <thead>\n",
       "    <tr style=\"text-align: right;\">\n",
       "      <th></th>\n",
       "      <th>cities</th>\n",
       "      <th>avgstars</th>\n",
       "    </tr>\n",
       "  </thead>\n",
       "  <tbody>\n",
       "    <tr>\n",
       "      <th>0</th>\n",
       "      <td>  la</td>\n",
       "      <td> 7.333333</td>\n",
       "    </tr>\n",
       "    <tr>\n",
       "      <th>1</th>\n",
       "      <td>  lv</td>\n",
       "      <td> 5.666667</td>\n",
       "    </tr>\n",
       "    <tr>\n",
       "      <th>2</th>\n",
       "      <td> nyc</td>\n",
       "      <td> 7.500000</td>\n",
       "    </tr>\n",
       "  </tbody>\n",
       "</table>\n",
       "</div>"
      ],
      "text/plain": [
       "  cities  avgstars\n",
       "0     la  7.333333\n",
       "1     lv  5.666667\n",
       "2    nyc  7.500000"
      ]
     },
     "execution_count": 89,
     "metadata": {},
     "output_type": "execute_result"
    }
   ],
   "source": [
    "# initialize output df\n",
    "from numpy import NaN\n",
    "import pandas as pd\n",
    "\n",
    "X = pd.Series(X) \n",
    "\n",
    "y = pd.Series(y) \n",
    "\n",
    "df_yelp = pd.DataFrame()\n",
    "\n",
    "df_yelp['cities'] = X\n",
    "df_yelp['stars'] = y\n",
    "\n",
    "dfg_yelp = df_yelp.groupby('cities')\n",
    "\n",
    "lst_cities = []\n",
    "lst_avgstars = []\n",
    "\n",
    "for city, df_stars_by_city in dfg_yelp:\n",
    "    mn = df_stars_by_city.stars.mean()\n",
    "    lst_cities.append(city)\n",
    "    lst_avgstars.append(mn)\n",
    "    \n",
    "print lst_cities\n",
    "print lst_avgstars\n",
    "\n",
    "df_avg_bycity = pd.DataFrame()\n",
    "df_avg_bycity['cities'] = lst_cities\n",
    "df_avg_bycity['avgstars'] = lst_avgstars\n",
    "\n",
    "df_avg_bycity    "
   ]
  },
  {
   "cell_type": "code",
   "execution_count": 90,
   "metadata": {
    "collapsed": false,
    "scrolled": true
   },
   "outputs": [
    {
     "data": {
      "text/html": [
       "<div style=\"max-height:1000px;max-width:1500px;overflow:auto;\">\n",
       "<table border=\"1\" class=\"dataframe\">\n",
       "  <thead>\n",
       "    <tr style=\"text-align: right;\">\n",
       "      <th></th>\n",
       "      <th>cities</th>\n",
       "      <th>avgstars</th>\n",
       "    </tr>\n",
       "  </thead>\n",
       "  <tbody>\n",
       "    <tr>\n",
       "      <th>0</th>\n",
       "      <td>  la</td>\n",
       "      <td> 7.333333</td>\n",
       "    </tr>\n",
       "    <tr>\n",
       "      <th>1</th>\n",
       "      <td>  lv</td>\n",
       "      <td> 5.666667</td>\n",
       "    </tr>\n",
       "    <tr>\n",
       "      <th>2</th>\n",
       "      <td> nyc</td>\n",
       "      <td> 7.500000</td>\n",
       "    </tr>\n",
       "  </tbody>\n",
       "</table>\n",
       "</div>"
      ],
      "text/plain": [
       "  cities  avgstars\n",
       "0     la  7.333333\n",
       "1     lv  5.666667\n",
       "2    nyc  7.500000"
      ]
     },
     "execution_count": 90,
     "metadata": {},
     "output_type": "execute_result"
    }
   ],
   "source": [
    "# initialize output df\n",
    "from numpy import NaN\n",
    "import pandas as pd\n",
    "\n",
    "X = pd.Series(X) \n",
    "\n",
    "y = pd.Series(y) \n",
    "\n",
    "df_yelp = pd.DataFrame()\n",
    "\n",
    "df_yelp['cities'] = X\n",
    "df_yelp['stars'] = y\n",
    "\n",
    "dfg_yelp = df_yelp.groupby('cities')\n",
    "\n",
    "lst_cities = []\n",
    "lst_avgstars = []\n",
    "\n",
    "for city, df_stars_by_city in dfg_yelp:\n",
    "    mn = df_stars_by_city.stars.mean()\n",
    "    lst_cities.append(city)\n",
    "    lst_avgstars.append(mn)\n",
    "    \n",
    "df_avg_bycity = pd.DataFrame()\n",
    "df_avg_bycity['cities'] = lst_cities\n",
    "df_avg_bycity['avgstars'] = lst_avgstars\n",
    "\n",
    "df_avg_bycity    "
   ]
  },
  {
   "cell_type": "code",
   "execution_count": 1,
   "metadata": {
    "collapsed": false,
    "scrolled": true
   },
   "outputs": [
    {
     "data": {
      "text/plain": [
       "{}"
      ]
     },
     "execution_count": 1,
     "metadata": {},
     "output_type": "execute_result"
    }
   ],
   "source": [
    "from Estimator import Estimator\n",
    "new = Estimator()\n",
    "\n",
    "new.__dict__"
   ]
  },
  {
   "cell_type": "code",
   "execution_count": 15,
   "metadata": {
    "collapsed": false,
    "scrolled": false
   },
   "outputs": [],
   "source": [
    "import pandas \n",
    "tmp = pandas.DataFrame()\n",
    "\n",
    "#[method for method in dir(tmp) if callable(getattr(tmp, method))]\n",
    "#[member for member in dir(tmp) if ~callable(getattr(tmp, member))]\n",
    "\n"
   ]
  },
  {
   "cell_type": "code",
   "execution_count": null,
   "metadata": {
    "collapsed": false,
    "scrolled": true
   },
   "outputs": [],
   "source": []
  },
  {
   "cell_type": "code",
   "execution_count": null,
   "metadata": {
    "collapsed": true,
    "scrolled": true
   },
   "outputs": [],
   "source": []
  },
  {
   "cell_type": "code",
   "execution_count": null,
   "metadata": {
    "collapsed": true,
    "scrolled": true
   },
   "outputs": [],
   "source": []
  },
  {
   "cell_type": "code",
   "execution_count": null,
   "metadata": {
    "collapsed": true,
    "scrolled": true
   },
   "outputs": [],
   "source": []
  },
  {
   "cell_type": "code",
   "execution_count": null,
   "metadata": {
    "collapsed": true,
    "scrolled": true
   },
   "outputs": [],
   "source": []
  },
  {
   "cell_type": "code",
   "execution_count": null,
   "metadata": {
    "collapsed": true,
    "scrolled": true
   },
   "outputs": [],
   "source": [
    "\n"
   ]
  }
 ],
 "metadata": {
  "kernelspec": {
   "display_name": "Python 2",
   "language": "python",
   "name": "python2"
  },
  "language_info": {
   "codemirror_mode": {
    "name": "ipython",
    "version": 2
   },
   "file_extension": ".py",
   "mimetype": "text/x-python",
   "name": "python",
   "nbconvert_exporter": "python",
   "pygments_lexer": "ipython2",
   "version": "2.7.6"
  }
 },
 "nbformat": 4,
 "nbformat_minor": 0
}
